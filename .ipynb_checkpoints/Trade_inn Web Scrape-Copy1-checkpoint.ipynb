{
 "cells": [
  {
   "cell_type": "code",
   "execution_count": 7,
   "id": "33e9c94c",
   "metadata": {},
   "outputs": [],
   "source": [
    "#libraries\n",
    "import time\n",
    "import pandas as pd\n",
    "from selenium import webdriver\n",
    "from selenium.webdriver.common.by import By\n",
    "from selenium.webdriver.support.ui import WebDriverWait\n",
    "from selenium.webdriver.support import expected_conditions as EC\n",
    "from selenium.common.exceptions import NoSuchElementException\n",
    "from selenium.common.exceptions import StaleElementReferenceException\n",
    "from selenium.common.exceptions import TimeoutException\n"
   ]
  },
  {
   "cell_type": "code",
   "execution_count": 10,
   "id": "f2c40f7d",
   "metadata": {},
   "outputs": [
    {
     "ename": "ElementClickInterceptedException",
     "evalue": "Message: element click intercepted: Element <a href=\"/bikeinn/en/mens-clothing/4011/lf\" title=\"...\">View all products</a> is not clickable at point (1419, 918). Other element would receive the click: <div class=\"barra_black_friday color_bikeinn\" id=\"footer_promocion2\" style=\"display: block;\">...</div>\n  (Session info: chrome=119.0.6045.199)\nStacktrace:\n0   chromedriver                        0x0000000100bde004 chromedriver + 4169732\n1   chromedriver                        0x0000000100bd5ff8 chromedriver + 4136952\n2   chromedriver                        0x000000010082b500 chromedriver + 292096\n3   chromedriver                        0x00000001008773f8 chromedriver + 603128\n4   chromedriver                        0x00000001008754e4 chromedriver + 595172\n5   chromedriver                        0x0000000100873118 chromedriver + 586008\n6   chromedriver                        0x0000000100872174 chromedriver + 582004\n7   chromedriver                        0x00000001008664f8 chromedriver + 533752\n8   chromedriver                        0x0000000100865db4 chromedriver + 531892\n9   chromedriver                        0x00000001008ab818 chromedriver + 817176\n10  chromedriver                        0x00000001008645e8 chromedriver + 525800\n11  chromedriver                        0x00000001008654b8 chromedriver + 529592\n12  chromedriver                        0x0000000100ba4334 chromedriver + 3932980\n13  chromedriver                        0x0000000100ba8970 chromedriver + 3950960\n14  chromedriver                        0x0000000100b8c774 chromedriver + 3835764\n15  chromedriver                        0x0000000100ba9478 chromedriver + 3953784\n16  chromedriver                        0x0000000100b7eab4 chromedriver + 3779252\n17  chromedriver                        0x0000000100bc5914 chromedriver + 4069652\n18  chromedriver                        0x0000000100bc5a90 chromedriver + 4070032\n19  chromedriver                        0x0000000100bd5c70 chromedriver + 4136048\n20  libsystem_pthread.dylib             0x0000000185187034 _pthread_start + 136\n21  libsystem_pthread.dylib             0x0000000185181e3c thread_start + 8\n",
     "output_type": "error",
     "traceback": [
      "\u001b[0;31m---------------------------------------------------------------------------\u001b[0m",
      "\u001b[0;31mElementClickInterceptedException\u001b[0m          Traceback (most recent call last)",
      "Cell \u001b[0;32mIn[10], line 50\u001b[0m\n\u001b[1;32m     44\u001b[0m elemento_todos_os_produtos \u001b[38;5;241m=\u001b[39m WebDriverWait(driver, \u001b[38;5;241m10\u001b[39m)\u001b[38;5;241m.\u001b[39muntil(\n\u001b[1;32m     45\u001b[0m     EC\u001b[38;5;241m.\u001b[39melement_to_be_clickable((By\u001b[38;5;241m.\u001b[39mLINK_TEXT, \u001b[38;5;124m'\u001b[39m\u001b[38;5;124mView all products\u001b[39m\u001b[38;5;124m'\u001b[39m))\n\u001b[1;32m     46\u001b[0m )\n\u001b[1;32m     48\u001b[0m time\u001b[38;5;241m.\u001b[39msleep(\u001b[38;5;241m2\u001b[39m)\n\u001b[0;32m---> 50\u001b[0m elemento_todos_os_produtos\u001b[38;5;241m.\u001b[39mclick()\n\u001b[1;32m     52\u001b[0m \u001b[38;5;66;03m# Placeholder for data collection loop\u001b[39;00m\n\u001b[1;32m     55\u001b[0m dados_coletados \u001b[38;5;241m=\u001b[39m []\n",
      "File \u001b[0;32m~/anaconda3/lib/python3.11/site-packages/selenium/webdriver/remote/webelement.py:93\u001b[0m, in \u001b[0;36mWebElement.click\u001b[0;34m(self)\u001b[0m\n\u001b[1;32m     91\u001b[0m \u001b[38;5;28;01mdef\u001b[39;00m \u001b[38;5;21mclick\u001b[39m(\u001b[38;5;28mself\u001b[39m) \u001b[38;5;241m-\u001b[39m\u001b[38;5;241m>\u001b[39m \u001b[38;5;28;01mNone\u001b[39;00m:\n\u001b[1;32m     92\u001b[0m \u001b[38;5;250m    \u001b[39m\u001b[38;5;124;03m\"\"\"Clicks the element.\"\"\"\u001b[39;00m\n\u001b[0;32m---> 93\u001b[0m     \u001b[38;5;28mself\u001b[39m\u001b[38;5;241m.\u001b[39m_execute(Command\u001b[38;5;241m.\u001b[39mCLICK_ELEMENT)\n",
      "File \u001b[0;32m~/anaconda3/lib/python3.11/site-packages/selenium/webdriver/remote/webelement.py:394\u001b[0m, in \u001b[0;36mWebElement._execute\u001b[0;34m(self, command, params)\u001b[0m\n\u001b[1;32m    392\u001b[0m     params \u001b[38;5;241m=\u001b[39m {}\n\u001b[1;32m    393\u001b[0m params[\u001b[38;5;124m\"\u001b[39m\u001b[38;5;124mid\u001b[39m\u001b[38;5;124m\"\u001b[39m] \u001b[38;5;241m=\u001b[39m \u001b[38;5;28mself\u001b[39m\u001b[38;5;241m.\u001b[39m_id\n\u001b[0;32m--> 394\u001b[0m \u001b[38;5;28;01mreturn\u001b[39;00m \u001b[38;5;28mself\u001b[39m\u001b[38;5;241m.\u001b[39m_parent\u001b[38;5;241m.\u001b[39mexecute(command, params)\n",
      "File \u001b[0;32m~/anaconda3/lib/python3.11/site-packages/selenium/webdriver/remote/webdriver.py:347\u001b[0m, in \u001b[0;36mWebDriver.execute\u001b[0;34m(self, driver_command, params)\u001b[0m\n\u001b[1;32m    345\u001b[0m response \u001b[38;5;241m=\u001b[39m \u001b[38;5;28mself\u001b[39m\u001b[38;5;241m.\u001b[39mcommand_executor\u001b[38;5;241m.\u001b[39mexecute(driver_command, params)\n\u001b[1;32m    346\u001b[0m \u001b[38;5;28;01mif\u001b[39;00m response:\n\u001b[0;32m--> 347\u001b[0m     \u001b[38;5;28mself\u001b[39m\u001b[38;5;241m.\u001b[39merror_handler\u001b[38;5;241m.\u001b[39mcheck_response(response)\n\u001b[1;32m    348\u001b[0m     response[\u001b[38;5;124m\"\u001b[39m\u001b[38;5;124mvalue\u001b[39m\u001b[38;5;124m\"\u001b[39m] \u001b[38;5;241m=\u001b[39m \u001b[38;5;28mself\u001b[39m\u001b[38;5;241m.\u001b[39m_unwrap_value(response\u001b[38;5;241m.\u001b[39mget(\u001b[38;5;124m\"\u001b[39m\u001b[38;5;124mvalue\u001b[39m\u001b[38;5;124m\"\u001b[39m, \u001b[38;5;28;01mNone\u001b[39;00m))\n\u001b[1;32m    349\u001b[0m     \u001b[38;5;28;01mreturn\u001b[39;00m response\n",
      "File \u001b[0;32m~/anaconda3/lib/python3.11/site-packages/selenium/webdriver/remote/errorhandler.py:229\u001b[0m, in \u001b[0;36mErrorHandler.check_response\u001b[0;34m(self, response)\u001b[0m\n\u001b[1;32m    227\u001b[0m         alert_text \u001b[38;5;241m=\u001b[39m value[\u001b[38;5;124m\"\u001b[39m\u001b[38;5;124malert\u001b[39m\u001b[38;5;124m\"\u001b[39m]\u001b[38;5;241m.\u001b[39mget(\u001b[38;5;124m\"\u001b[39m\u001b[38;5;124mtext\u001b[39m\u001b[38;5;124m\"\u001b[39m)\n\u001b[1;32m    228\u001b[0m     \u001b[38;5;28;01mraise\u001b[39;00m exception_class(message, screen, stacktrace, alert_text)  \u001b[38;5;66;03m# type: ignore[call-arg]  # mypy is not smart enough here\u001b[39;00m\n\u001b[0;32m--> 229\u001b[0m \u001b[38;5;28;01mraise\u001b[39;00m exception_class(message, screen, stacktrace)\n",
      "\u001b[0;31mElementClickInterceptedException\u001b[0m: Message: element click intercepted: Element <a href=\"/bikeinn/en/mens-clothing/4011/lf\" title=\"...\">View all products</a> is not clickable at point (1419, 918). Other element would receive the click: <div class=\"barra_black_friday color_bikeinn\" id=\"footer_promocion2\" style=\"display: block;\">...</div>\n  (Session info: chrome=119.0.6045.199)\nStacktrace:\n0   chromedriver                        0x0000000100bde004 chromedriver + 4169732\n1   chromedriver                        0x0000000100bd5ff8 chromedriver + 4136952\n2   chromedriver                        0x000000010082b500 chromedriver + 292096\n3   chromedriver                        0x00000001008773f8 chromedriver + 603128\n4   chromedriver                        0x00000001008754e4 chromedriver + 595172\n5   chromedriver                        0x0000000100873118 chromedriver + 586008\n6   chromedriver                        0x0000000100872174 chromedriver + 582004\n7   chromedriver                        0x00000001008664f8 chromedriver + 533752\n8   chromedriver                        0x0000000100865db4 chromedriver + 531892\n9   chromedriver                        0x00000001008ab818 chromedriver + 817176\n10  chromedriver                        0x00000001008645e8 chromedriver + 525800\n11  chromedriver                        0x00000001008654b8 chromedriver + 529592\n12  chromedriver                        0x0000000100ba4334 chromedriver + 3932980\n13  chromedriver                        0x0000000100ba8970 chromedriver + 3950960\n14  chromedriver                        0x0000000100b8c774 chromedriver + 3835764\n15  chromedriver                        0x0000000100ba9478 chromedriver + 3953784\n16  chromedriver                        0x0000000100b7eab4 chromedriver + 3779252\n17  chromedriver                        0x0000000100bc5914 chromedriver + 4069652\n18  chromedriver                        0x0000000100bc5a90 chromedriver + 4070032\n19  chromedriver                        0x0000000100bd5c70 chromedriver + 4136048\n20  libsystem_pthread.dylib             0x0000000185187034 _pthread_start + 136\n21  libsystem_pthread.dylib             0x0000000185181e3c thread_start + 8\n"
     ]
    }
   ],
   "source": [
    "# Configurar o driver do navegador\n",
    "driver = webdriver.Chrome()\n",
    "\n",
    "# Navegar até a página da web\n",
    "driver.get(\"https://www.tradeinn.com/en\")\n",
    "\n",
    "# Aguarde até que o botão de aceitar cookies seja visível\n",
    "elemento_botao_cookies = WebDriverWait(driver, 10).until(\n",
    "    EC.element_to_be_clickable((By.ID, 'onetrust-accept-btn-handler'))\n",
    ")\n",
    "\n",
    "# Aguarde por 2 segundos (ajuste conforme necessário)\n",
    "time.sleep(2)\n",
    "\n",
    "# Clicar no botão de aceitar cookies\n",
    "elemento_botao_cookies.click()\n",
    "\n",
    "# Aguarde por 2 segundos (ajuste conforme necessário)\n",
    "time.sleep(5)\n",
    "\n",
    "# Encontrar o elemento <a> com a classe \"contenedor_tiendas_hpt\"\n",
    "elemento_tienda = driver.find_element(By.XPATH, '//a[@class=\"contenedor_tiendas_hpt\" and @href=\"/bikeinn/en\"]')\n",
    "\n",
    "# Clicar no elemento\n",
    "elemento_tienda.click()\n",
    "\n",
    "time.sleep(2)\n",
    "\n",
    "# Aguarde até que o elemento seja visível e interagível usando o texto do link\n",
    "elemento_roupa_homem = WebDriverWait(driver, 10).until(\n",
    "    EC.element_to_be_clickable((By.LINK_TEXT, \"Men´s Clothing\"))\n",
    ")\n",
    "\n",
    "# Clicar no elemento\n",
    "elemento_roupa_homem.click()\n",
    "\n",
    "time.sleep(2)\n",
    "\n",
    "elemento_todos_os_produtos = WebDriverWait(driver, 10).until(\n",
    "    EC.element_to_be_clickable((By.LINK_TEXT, 'View all products'))\n",
    ")\n",
    "\n",
    "# Click on \"View all products\" link using JavaScript\n",
    "elemento_todos_os_produtos = WebDriverWait(driver, 10).until(\n",
    "    EC.element_to_be_clickable((By.LINK_TEXT, 'View all products'))\n",
    ")\n",
    "\n",
    "time.sleep(2)\n",
    "\n",
    "elemento_todos_os_produtos.click()\n",
    "\n",
    "# Placeholder for data collection loop\n",
    "\n",
    "\n",
    "dados_coletados = []\n",
    "\n",
    "# Função para rolar até o final da página\n",
    "def scroll_down():\n",
    "    driver.execute_script(\"window.scrollTo(0, document.body.scrollHeight);\")\n",
    "    WebDriverWait(driver, 10).until(EC.invisibility_of_element_located((By.XPATH, '//div[@class=\"loading\"]')))\n",
    "\n",
    "# Coletar dados enquanto houver mais conteúdo\n",
    "while True:\n",
    "    try:\n",
    "        # Collect data for Elemento 1\n",
    "        elemento_1_imagem = driver.find_element(By.XPATH, '/html/body/div[10]/div[1]/div[3]/div[5]/div[2]/div/ul/li[8]/div/div[1]/a/img').get_attribute('src')\n",
    "        \n",
    "        # Collect data for Elemento 2\n",
    "        elemento_2 = driver.find_element(By.XPATH, '/html/body/div[10]/div[1]/div[3]/div[5]/div[2]/div/ul/li[12]/div/div[2]/h3/a').text\n",
    "        \n",
    "        # Collect data for Elemento 3\n",
    "        elemento_3 = driver.find_element(By.XPATH, '/html/body/div[10]/div[1]/div[3]/div[5]/div[2]/div/ul/li[12]/div/div[2]/p').text\n",
    "        \n",
    "        # Append the collected data to the list\n",
    "        dados_coletados.append([elemento_1_imagem, elemento_2, elemento_3])\n",
    "        \n",
    "        # Scroll down to load more content\n",
    "        scroll_down()\n",
    "        \n",
    "    except NoSuchElementException:\n",
    "        # If no more elements to collect, exit the loop\n",
    "        break\n",
    "\n",
    "# Criar um DataFrame a partir dos dados coletados\n",
    "Bike_inn = pd.DataFrame(dados_coletados, columns=['Image', 'Description', 'Price'])\n",
    "print(Bike_inn)\n",
    "\n",
    "# Close the WebDriver\n",
    "driver.quit()\n"
   ]
  },
  {
   "cell_type": "code",
   "execution_count": 2,
   "id": "776151e2",
   "metadata": {},
   "outputs": [
    {
     "ename": "NameError",
     "evalue": "name 'Bike_inn' is not defined",
     "output_type": "error",
     "traceback": [
      "\u001b[0;31m---------------------------------------------------------------------------\u001b[0m",
      "\u001b[0;31mNameError\u001b[0m                                 Traceback (most recent call last)",
      "Cell \u001b[0;32mIn[2], line 1\u001b[0m\n\u001b[0;32m----> 1\u001b[0m Bike_inn\n",
      "\u001b[0;31mNameError\u001b[0m: name 'Bike_inn' is not defined"
     ]
    }
   ],
   "source": [
    "Bike_inn"
   ]
  },
  {
   "cell_type": "code",
   "execution_count": 55,
   "id": "5b8f9d3f",
   "metadata": {},
   "outputs": [],
   "source": [
    "Bike_inn.to_csv('Bike_inn.csv', index=False)"
   ]
  }
 ],
 "metadata": {
  "kernelspec": {
   "display_name": "Python 3 (ipykernel)",
   "language": "python",
   "name": "python3"
  },
  "language_info": {
   "codemirror_mode": {
    "name": "ipython",
    "version": 3
   },
   "file_extension": ".py",
   "mimetype": "text/x-python",
   "name": "python",
   "nbconvert_exporter": "python",
   "pygments_lexer": "ipython3",
   "version": "3.11.4"
  }
 },
 "nbformat": 4,
 "nbformat_minor": 5
}
