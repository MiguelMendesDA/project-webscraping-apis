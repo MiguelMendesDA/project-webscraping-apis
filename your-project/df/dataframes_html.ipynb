{
 "cells": [
  {
   "cell_type": "markdown",
   "id": "b8212f0e",
   "metadata": {},
   "source": [
    "# Data Frames"
   ]
  },
  {
   "cell_type": "code",
   "execution_count": 18,
   "id": "bd0c8ca8",
   "metadata": {},
   "outputs": [],
   "source": [
    "import pandas as pd\n",
    "\n",
    "def create_df(folder_path, file_name):\n",
    "    \"\"\"\n",
    "    Opens a file in a specified folder and creates a DataFrame.\n",
    "\n",
    "    Parameters:\n",
    "    - folder_path (str): The path of the folder containing the file.\n",
    "    - file_name (str): The name of the file to be read.\n",
    "\n",
    "    Returns:\n",
    "    - pd.DataFrame: The DataFrame created from the file.\n",
    "    \"\"\"\n",
    "    # Construct the full path to the file\n",
    "    file_path = f\"{folder_path}/{file_name}\"\n",
    "\n",
    "    try:\n",
    "        # Read the file into a DataFrame\n",
    "        df = pd.read_csv(file_path)\n",
    "        \n",
    "        return df\n",
    "\n",
    "    except FileNotFoundError:\n",
    "        print(f\"File not found: {file_path}\")\n",
    "        return None\n",
    "    except Exception as e:\n",
    "        print(f\"An error occurred: {e}\")\n",
    "        return None"
   ]
  },
  {
   "cell_type": "code",
   "execution_count": 2,
   "id": "a501aeff",
   "metadata": {},
   "outputs": [],
   "source": [
    "# Basketball\n",
    "folder_path= 'cleaned_df'\n",
    "file_name = 'basketball_items.csv'\n",
    "\n",
    "basketball_items= create_df(folder_path, file_name)\n",
    "\n",
    "# transform df in html\n",
    "\n",
    "html_basketball_items = basketball_items.to_html(index=False)"
   ]
  },
  {
   "cell_type": "code",
   "execution_count": 3,
   "id": "b3e746ba",
   "metadata": {},
   "outputs": [],
   "source": [
    "# Bike\n",
    "folder_path= 'cleaned_df'\n",
    "file_name = 'bike_items.csv'\n",
    "\n",
    "bike_items = create_df(folder_path, file_name)\n",
    "\n",
    "# transform df in html\n",
    "\n",
    "html_bike_items = bike_items.to_html(index=False)\n"
   ]
  },
  {
   "cell_type": "code",
   "execution_count": 4,
   "id": "f5d750f7",
   "metadata": {},
   "outputs": [],
   "source": [
    "# Football\n",
    "\n",
    "folder_path= 'cleaned_df'\n",
    "file_name = 'football_items.csv'\n",
    "\n",
    "football_items = create_df(folder_path, file_name)\n",
    "\n",
    "# transform df in html\n",
    "\n",
    "html_football_items = football_items.to_html(index=False)\n"
   ]
  },
  {
   "cell_type": "code",
   "execution_count": 5,
   "id": "ecb54648",
   "metadata": {},
   "outputs": [],
   "source": [
    "#kids\n",
    "\n",
    "folder_path= 'cleaned_df'\n",
    "file_name = 'kids_items.csv'\n",
    "\n",
    "kids_items = create_df(folder_path, file_name)\n",
    "\n",
    "# transform df in html\n",
    "\n",
    "html_kids_items = kids_items.to_html(index=False)\n"
   ]
  },
  {
   "cell_type": "code",
   "execution_count": 6,
   "id": "96fab918",
   "metadata": {},
   "outputs": [],
   "source": [
    "#padel\n",
    "\n",
    "folder_path= 'cleaned_df'\n",
    "file_name = 'padel_items.csv'\n",
    "\n",
    "padel_items = create_df(folder_path, file_name)\n",
    "\n",
    "# transform df in html\n",
    "\n",
    "html_padel_items = padel_items.to_html(index=False)"
   ]
  },
  {
   "cell_type": "code",
   "execution_count": 7,
   "id": "ac6835e2",
   "metadata": {},
   "outputs": [],
   "source": [
    "#running\n",
    "\n",
    "folder_path= 'cleaned_df'\n",
    "file_name = 'running_items.csv'\n",
    "\n",
    "running_items = create_df(folder_path, file_name)\n",
    "\n",
    "# transform df in html\n",
    "\n",
    "html_running_items = running_items.to_html(index=False)\n"
   ]
  },
  {
   "cell_type": "code",
   "execution_count": 8,
   "id": "ac1cd521",
   "metadata": {},
   "outputs": [],
   "source": [
    "#surf\n",
    "\n",
    "folder_path= 'cleaned_df'\n",
    "file_name = 'surf_items.csv'\n",
    "\n",
    "surf_items = create_df(folder_path, file_name)\n",
    "\n",
    "# transform df in html\n",
    "\n",
    "html_surf_items = surf_items.to_html(index=False)"
   ]
  },
  {
   "cell_type": "code",
   "execution_count": 9,
   "id": "cdaad20e",
   "metadata": {},
   "outputs": [],
   "source": [
    "#swim\n",
    "\n",
    "folder_path= 'cleaned_df'\n",
    "file_name = 'swim_items.csv'\n",
    "\n",
    "swim_items = create_df(folder_path, file_name)\n",
    "\n",
    "# transform df in html\n",
    "\n",
    "html_swim_items = swim_items.to_html(index=False)"
   ]
  },
  {
   "cell_type": "code",
   "execution_count": 10,
   "id": "616a219c",
   "metadata": {},
   "outputs": [],
   "source": [
    "#tennis\n",
    "\n",
    "folder_path= 'cleaned_df'\n",
    "file_name = 'tennis_items.csv'\n",
    "\n",
    "tennis_items = create_df(folder_path, file_name)\n",
    "\n",
    "# transform df in html\n",
    "\n",
    "html_tennis_items = tennis_items.to_html(index=False)"
   ]
  },
  {
   "cell_type": "code",
   "execution_count": 11,
   "id": "a9899650",
   "metadata": {},
   "outputs": [],
   "source": [
    "#training\n",
    "\n",
    "folder_path= 'cleaned_df'\n",
    "file_name = 'training_items.csv'\n",
    "\n",
    "training_items = create_df(folder_path, file_name)\n",
    "\n",
    "# transform df in html\n",
    "\n",
    "html_training_items = training_items.to_html(index=False)"
   ]
  },
  {
   "cell_type": "code",
   "execution_count": 12,
   "id": "4f2d9ca7",
   "metadata": {},
   "outputs": [],
   "source": [
    "#treking\n",
    "\n",
    "folder_path= 'cleaned_df'\n",
    "file_name = 'treking_items.csv'\n",
    "\n",
    "treking_items = create_df(folder_path, file_name)\n",
    "\n",
    "# transform df in html\n",
    "\n",
    "html_treking_items = treking_items.to_html(index=False)"
   ]
  },
  {
   "cell_type": "code",
   "execution_count": 13,
   "id": "a6383f8d",
   "metadata": {},
   "outputs": [],
   "source": [
    "# Books\n",
    "\n",
    "folder_path= 'cleaned_df'\n",
    "file_name = 'book_items.csv'\n",
    "\n",
    "book_items = create_df(folder_path, file_name)\n",
    "\n",
    "# transform df in html\n",
    "\n",
    "html_book_items = book_items.to_html(index=False)"
   ]
  },
  {
   "cell_type": "code",
   "execution_count": 15,
   "id": "82cf82b3",
   "metadata": {},
   "outputs": [],
   "source": [
    "# Lego\n",
    "\n",
    "folder_path= 'cleaned_df'\n",
    "file_name = 'lego_items.csv'\n",
    "\n",
    "lego_items = create_df(folder_path, file_name)\n",
    "\n",
    "# transform df in html\n",
    "\n",
    "html_lego_items = lego_items.to_html(index=False)"
   ]
  },
  {
   "cell_type": "code",
   "execution_count": 16,
   "id": "87d721cf",
   "metadata": {},
   "outputs": [],
   "source": [
    "#Nintendo\n",
    "\n",
    "folder_path= 'cleaned_df'\n",
    "file_name = 'nintendo_games.csv'\n",
    "\n",
    "nintendo_games = create_df(folder_path, file_name)\n",
    "\n",
    "# transform df in html\n",
    "\n",
    "html_nintendo_games = nintendo_games.to_html(index=False)"
   ]
  },
  {
   "cell_type": "code",
   "execution_count": 17,
   "id": "3d7fc737",
   "metadata": {},
   "outputs": [],
   "source": [
    "#PS4\n",
    "\n",
    "folder_path= 'cleaned_df'\n",
    "file_name = 'playstation4_games.csv'\n",
    "\n",
    "playstation4_games = create_df(folder_path, file_name)\n",
    "\n",
    "# transform df in html\n",
    "\n",
    "html_playstation4_games = playstation4_games.to_html(index=False)"
   ]
  }
 ],
 "metadata": {
  "kernelspec": {
   "display_name": "Python 3 (ipykernel)",
   "language": "python",
   "name": "python3"
  },
  "language_info": {
   "codemirror_mode": {
    "name": "ipython",
    "version": 3
   },
   "file_extension": ".py",
   "mimetype": "text/x-python",
   "name": "python",
   "nbconvert_exporter": "python",
   "pygments_lexer": "ipython3",
   "version": "3.11.4"
  }
 },
 "nbformat": 4,
 "nbformat_minor": 5
}
